{
 "cells": [
  {
   "cell_type": "code",
   "execution_count": null,
   "metadata": {},
   "outputs": [],
   "source": [
    "# Langchain\n",
    "# Embeddings\n",
    "# Vectorstore\n",
    "# Chains by LangChain(LLM and Embeddings)"
   ]
  },
  {
   "cell_type": "code",
   "execution_count": 1,
   "metadata": {},
   "outputs": [
    {
     "name": "stderr",
     "output_type": "stream",
     "text": [
      "Cloning into 'Chat-with-PDF-Chatbot'...\n"
     ]
    }
   ],
   "source": [
    "!git clone https://github.com/AIAnytime/Chat-with-PDF-Chatbot.git"
   ]
  },
  {
   "cell_type": "code",
   "execution_count": 19,
   "metadata": {},
   "outputs": [
    {
     "name": "stdout",
     "output_type": "stream",
     "text": [
      "Requirement already satisfied: requests in c:\\users\\user\\anaconda3\\lib\\site-packages (2.28.1)\n",
      "Requirement already satisfied: idna<4,>=2.5 in c:\\users\\user\\anaconda3\\lib\\site-packages (from requests) (3.4)\n",
      "Requirement already satisfied: certifi>=2017.4.17 in c:\\users\\user\\anaconda3\\lib\\site-packages (from requests) (2023.5.7)\n",
      "Requirement already satisfied: urllib3<1.27,>=1.21.1 in c:\\users\\user\\anaconda3\\lib\\site-packages (from requests) (1.26.14)\n",
      "Requirement already satisfied: charset-normalizer<3,>=2 in c:\\users\\user\\anaconda3\\lib\\site-packages (from requests) (2.0.4)\n"
     ]
    }
   ],
   "source": [
    "!pip install requests"
   ]
  },
  {
   "cell_type": "code",
   "execution_count": 22,
   "metadata": {},
   "outputs": [
    {
     "name": "stdout",
     "output_type": "stream",
     "text": [
      "Requirement already satisfied: torchvision in c:\\users\\user\\anaconda3\\lib\\site-packages (0.15.2)\n",
      "Requirement already satisfied: requests in c:\\users\\user\\anaconda3\\lib\\site-packages (from torchvision) (2.28.1)\n",
      "Requirement already satisfied: torch==2.0.1 in c:\\users\\user\\anaconda3\\lib\\site-packages (from torchvision) (2.0.1)\n",
      "Requirement already satisfied: pillow!=8.3.*,>=5.3.0 in c:\\users\\user\\anaconda3\\lib\\site-packages (from torchvision) (9.4.0)\n",
      "Requirement already satisfied: numpy in c:\\users\\user\\anaconda3\\lib\\site-packages (from torchvision) (1.23.3)\n",
      "Requirement already satisfied: typing-extensions in c:\\users\\user\\anaconda3\\lib\\site-packages (from torch==2.0.1->torchvision) (4.7.1)\n",
      "Requirement already satisfied: networkx in c:\\users\\user\\anaconda3\\lib\\site-packages (from torch==2.0.1->torchvision) (2.8.4)\n",
      "Requirement already satisfied: sympy in c:\\users\\user\\anaconda3\\lib\\site-packages (from torch==2.0.1->torchvision) (1.11.1)\n",
      "Requirement already satisfied: filelock in c:\\users\\user\\anaconda3\\lib\\site-packages (from torch==2.0.1->torchvision) (3.9.0)\n",
      "Requirement already satisfied: jinja2 in c:\\users\\user\\anaconda3\\lib\\site-packages (from torch==2.0.1->torchvision) (3.1.2)\n",
      "Requirement already satisfied: urllib3<1.27,>=1.21.1 in c:\\users\\user\\anaconda3\\lib\\site-packages (from requests->torchvision) (1.26.14)\n",
      "Requirement already satisfied: charset-normalizer<3,>=2 in c:\\users\\user\\anaconda3\\lib\\site-packages (from requests->torchvision) (2.0.4)\n",
      "Requirement already satisfied: idna<4,>=2.5 in c:\\users\\user\\anaconda3\\lib\\site-packages (from requests->torchvision) (3.4)\n",
      "Requirement already satisfied: certifi>=2017.4.17 in c:\\users\\user\\anaconda3\\lib\\site-packages (from requests->torchvision) (2023.5.7)\n",
      "Requirement already satisfied: MarkupSafe>=2.0 in c:\\users\\user\\anaconda3\\lib\\site-packages (from jinja2->torch==2.0.1->torchvision) (2.1.1)\n",
      "Requirement already satisfied: mpmath>=0.19 in c:\\users\\user\\anaconda3\\lib\\site-packages (from sympy->torch==2.0.1->torchvision) (1.2.1)\n"
     ]
    }
   ],
   "source": [
    "!pip install torchvision"
   ]
  },
  {
   "cell_type": "code",
   "execution_count": 16,
   "metadata": {},
   "outputs": [
    {
     "name": "stdout",
     "output_type": "stream",
     "text": [
      "Collecting sentence-transformers\n",
      "  Downloading sentence-transformers-2.2.2.tar.gz (85 kB)\n",
      "     -------------------------------------- 86.0/86.0 kB 255.8 kB/s eta 0:00:00\n",
      "  Preparing metadata (setup.py): started\n",
      "  Preparing metadata (setup.py): finished with status 'done'\n",
      "Requirement already satisfied: transformers<5.0.0,>=4.6.0 in c:\\users\\user\\anaconda3\\lib\\site-packages (from sentence-transformers) (4.32.0.dev0)\n",
      "Requirement already satisfied: tqdm in c:\\users\\user\\anaconda3\\lib\\site-packages (from sentence-transformers) (4.66.1)\n",
      "Requirement already satisfied: torch>=1.6.0 in c:\\users\\user\\anaconda3\\lib\\site-packages (from sentence-transformers) (2.0.1)\n",
      "Requirement already satisfied: torchvision in c:\\users\\user\\anaconda3\\lib\\site-packages (from sentence-transformers) (0.15.2)\n",
      "Requirement already satisfied: numpy in c:\\users\\user\\anaconda3\\lib\\site-packages (from sentence-transformers) (1.23.3)\n",
      "Requirement already satisfied: scikit-learn in c:\\users\\user\\anaconda3\\lib\\site-packages (from sentence-transformers) (1.2.1)\n",
      "Requirement already satisfied: scipy in c:\\users\\user\\anaconda3\\lib\\site-packages (from sentence-transformers) (1.10.0)\n",
      "Requirement already satisfied: nltk in c:\\users\\user\\anaconda3\\lib\\site-packages (from sentence-transformers) (3.7)\n",
      "Collecting sentencepiece\n",
      "  Downloading sentencepiece-0.1.99-cp310-cp310-win_amd64.whl (977 kB)\n",
      "     ------------------------------------ 977.5/977.5 kB 351.7 kB/s eta 0:00:00\n",
      "Requirement already satisfied: huggingface-hub>=0.4.0 in c:\\users\\user\\anaconda3\\lib\\site-packages (from sentence-transformers) (0.16.4)\n",
      "Requirement already satisfied: typing-extensions>=3.7.4.3 in c:\\users\\user\\anaconda3\\lib\\site-packages (from huggingface-hub>=0.4.0->sentence-transformers) (4.7.1)\n",
      "Requirement already satisfied: packaging>=20.9 in c:\\users\\user\\anaconda3\\lib\\site-packages (from huggingface-hub>=0.4.0->sentence-transformers) (22.0)\n",
      "Requirement already satisfied: requests in c:\\users\\user\\anaconda3\\lib\\site-packages (from huggingface-hub>=0.4.0->sentence-transformers) (2.28.1)\n",
      "Requirement already satisfied: fsspec in c:\\users\\user\\anaconda3\\lib\\site-packages (from huggingface-hub>=0.4.0->sentence-transformers) (2022.11.0)\n",
      "Requirement already satisfied: pyyaml>=5.1 in c:\\users\\user\\anaconda3\\lib\\site-packages (from huggingface-hub>=0.4.0->sentence-transformers) (6.0)\n",
      "Requirement already satisfied: filelock in c:\\users\\user\\anaconda3\\lib\\site-packages (from huggingface-hub>=0.4.0->sentence-transformers) (3.9.0)\n",
      "Requirement already satisfied: jinja2 in c:\\users\\user\\anaconda3\\lib\\site-packages (from torch>=1.6.0->sentence-transformers) (3.1.2)\n",
      "Requirement already satisfied: sympy in c:\\users\\user\\anaconda3\\lib\\site-packages (from torch>=1.6.0->sentence-transformers) (1.11.1)\n",
      "Requirement already satisfied: networkx in c:\\users\\user\\anaconda3\\lib\\site-packages (from torch>=1.6.0->sentence-transformers) (2.8.4)\n",
      "Requirement already satisfied: colorama in c:\\users\\user\\anaconda3\\lib\\site-packages (from tqdm->sentence-transformers) (0.4.6)\n",
      "Collecting tokenizers!=0.11.3,<0.14,>=0.11.1\n",
      "  Downloading tokenizers-0.13.3-cp310-cp310-win_amd64.whl (3.5 MB)\n",
      "     ---------------------------------------- 3.5/3.5 MB 431.5 kB/s eta 0:00:00\n",
      "Requirement already satisfied: regex!=2019.12.17 in c:\\users\\user\\anaconda3\\lib\\site-packages (from transformers<5.0.0,>=4.6.0->sentence-transformers) (2022.7.9)\n",
      "Requirement already satisfied: safetensors>=0.3.1 in c:\\users\\user\\anaconda3\\lib\\site-packages (from transformers<5.0.0,>=4.6.0->sentence-transformers) (0.3.1)\n",
      "Requirement already satisfied: joblib in c:\\users\\user\\anaconda3\\lib\\site-packages (from nltk->sentence-transformers) (1.1.1)\n",
      "Requirement already satisfied: click in c:\\users\\user\\anaconda3\\lib\\site-packages (from nltk->sentence-transformers) (8.0.4)\n",
      "Requirement already satisfied: threadpoolctl>=2.0.0 in c:\\users\\user\\anaconda3\\lib\\site-packages (from scikit-learn->sentence-transformers) (2.2.0)\n",
      "Requirement already satisfied: pillow!=8.3.*,>=5.3.0 in c:\\users\\user\\anaconda3\\lib\\site-packages (from torchvision->sentence-transformers) (9.4.0)\n",
      "Requirement already satisfied: MarkupSafe>=2.0 in c:\\users\\user\\anaconda3\\lib\\site-packages (from jinja2->torch>=1.6.0->sentence-transformers) (2.1.1)\n",
      "Requirement already satisfied: certifi>=2017.4.17 in c:\\users\\user\\anaconda3\\lib\\site-packages (from requests->huggingface-hub>=0.4.0->sentence-transformers) (2023.5.7)\n",
      "Requirement already satisfied: charset-normalizer<3,>=2 in c:\\users\\user\\anaconda3\\lib\\site-packages (from requests->huggingface-hub>=0.4.0->sentence-transformers) (2.0.4)\n",
      "Requirement already satisfied: idna<4,>=2.5 in c:\\users\\user\\anaconda3\\lib\\site-packages (from requests->huggingface-hub>=0.4.0->sentence-transformers) (3.4)\n",
      "Requirement already satisfied: urllib3<1.27,>=1.21.1 in c:\\users\\user\\anaconda3\\lib\\site-packages (from requests->huggingface-hub>=0.4.0->sentence-transformers) (1.26.14)\n",
      "Requirement already satisfied: mpmath>=0.19 in c:\\users\\user\\anaconda3\\lib\\site-packages (from sympy->torch>=1.6.0->sentence-transformers) (1.2.1)\n",
      "Building wheels for collected packages: sentence-transformers\n",
      "  Building wheel for sentence-transformers (setup.py): started\n",
      "  Building wheel for sentence-transformers (setup.py): finished with status 'done'\n",
      "  Created wheel for sentence-transformers: filename=sentence_transformers-2.2.2-py3-none-any.whl size=125960 sha256=25c699556dd7634b2a2aa25bc79a6f68953e2f4bcceaacfa7818f5274e92366b\n",
      "  Stored in directory: c:\\users\\user\\appdata\\local\\pip\\cache\\wheels\\0a\\f5\\dd\\9d00836c4e9e279c2a59d5b0ab72dafa66cbc626a327c550dd\n",
      "Successfully built sentence-transformers\n",
      "Installing collected packages: tokenizers, sentencepiece, sentence-transformers\n",
      "  Attempting uninstall: tokenizers\n",
      "    Found existing installation: tokenizers 0.14.0\n",
      "    Uninstalling tokenizers-0.14.0:\n",
      "      Successfully uninstalled tokenizers-0.14.0\n",
      "Successfully installed sentence-transformers-2.2.2 sentencepiece-0.1.99 tokenizers-0.13.3\n"
     ]
    }
   ],
   "source": []
  },
  {
   "cell_type": "code",
   "execution_count": 4,
   "metadata": {},
   "outputs": [
    {
     "name": "stdout",
     "output_type": "stream",
     "text": [
      "Git LFS initialized.\n"
     ]
    },
    {
     "name": "stderr",
     "output_type": "stream",
     "text": [
      "fatal: destination path 'LaMini-T5-738M' already exists and is not an empty directory.\n"
     ]
    }
   ],
   "source": [
    "!git lfs install\n",
    "!git clone https://huggingface.co/MBZUAI/LaMini-T5-738M"
   ]
  },
  {
   "cell_type": "code",
   "execution_count": 5,
   "metadata": {},
   "outputs": [
    {
     "data": {
      "application/vnd.jupyter.widget-view+json": {
       "model_id": "7f97706184ef4dd7a26b6c6e1cc2970c",
       "version_major": 2,
       "version_minor": 0
      },
      "text/plain": [
       "Downloading (…)e9125/.gitattributes:   0%|          | 0.00/1.18k [00:00<?, ?B/s]"
      ]
     },
     "metadata": {},
     "output_type": "display_data"
    },
    {
     "data": {
      "application/vnd.jupyter.widget-view+json": {
       "model_id": "d3993964dfe941fc9ea4038f56ee4e5a",
       "version_major": 2,
       "version_minor": 0
      },
      "text/plain": [
       "Downloading (…)_Pooling/config.json:   0%|          | 0.00/190 [00:00<?, ?B/s]"
      ]
     },
     "metadata": {},
     "output_type": "display_data"
    },
    {
     "data": {
      "application/vnd.jupyter.widget-view+json": {
       "model_id": "925f4842ff714922af661b71082eaabc",
       "version_major": 2,
       "version_minor": 0
      },
      "text/plain": [
       "Downloading (…)7e55de9125/README.md:   0%|          | 0.00/10.6k [00:00<?, ?B/s]"
      ]
     },
     "metadata": {},
     "output_type": "display_data"
    },
    {
     "data": {
      "application/vnd.jupyter.widget-view+json": {
       "model_id": "aab54ad477b943c3ab08ac366c82b4e3",
       "version_major": 2,
       "version_minor": 0
      },
      "text/plain": [
       "Downloading (…)55de9125/config.json:   0%|          | 0.00/612 [00:00<?, ?B/s]"
      ]
     },
     "metadata": {},
     "output_type": "display_data"
    },
    {
     "data": {
      "application/vnd.jupyter.widget-view+json": {
       "model_id": "9f702161ec6b4da793c4af21688b7a69",
       "version_major": 2,
       "version_minor": 0
      },
      "text/plain": [
       "Downloading (…)ce_transformers.json:   0%|          | 0.00/116 [00:00<?, ?B/s]"
      ]
     },
     "metadata": {},
     "output_type": "display_data"
    },
    {
     "data": {
      "application/vnd.jupyter.widget-view+json": {
       "model_id": "76410fd68bfd45f3b1facd40525013e3",
       "version_major": 2,
       "version_minor": 0
      },
      "text/plain": [
       "Downloading (…)125/data_config.json:   0%|          | 0.00/39.3k [00:00<?, ?B/s]"
      ]
     },
     "metadata": {},
     "output_type": "display_data"
    },
    {
     "data": {
      "application/vnd.jupyter.widget-view+json": {
       "model_id": "90c8b118922b4442954d3554844e6988",
       "version_major": 2,
       "version_minor": 0
      },
      "text/plain": [
       "Downloading pytorch_model.bin:   0%|          | 0.00/90.9M [00:00<?, ?B/s]"
      ]
     },
     "metadata": {},
     "output_type": "display_data"
    },
    {
     "data": {
      "application/vnd.jupyter.widget-view+json": {
       "model_id": "9c2d883593a44a79b0c72aac419533ac",
       "version_major": 2,
       "version_minor": 0
      },
      "text/plain": [
       "Downloading (…)nce_bert_config.json:   0%|          | 0.00/53.0 [00:00<?, ?B/s]"
      ]
     },
     "metadata": {},
     "output_type": "display_data"
    },
    {
     "data": {
      "application/vnd.jupyter.widget-view+json": {
       "model_id": "b648c3597b2f4ae5adc4a9c24961386a",
       "version_major": 2,
       "version_minor": 0
      },
      "text/plain": [
       "Downloading (…)cial_tokens_map.json:   0%|          | 0.00/112 [00:00<?, ?B/s]"
      ]
     },
     "metadata": {},
     "output_type": "display_data"
    },
    {
     "data": {
      "application/vnd.jupyter.widget-view+json": {
       "model_id": "c696861974b746448b72d60a8231cd6a",
       "version_major": 2,
       "version_minor": 0
      },
      "text/plain": [
       "Downloading (…)e9125/tokenizer.json:   0%|          | 0.00/466k [00:00<?, ?B/s]"
      ]
     },
     "metadata": {},
     "output_type": "display_data"
    },
    {
     "data": {
      "application/vnd.jupyter.widget-view+json": {
       "model_id": "b9eb993bf1114ece8378fba77ae8757d",
       "version_major": 2,
       "version_minor": 0
      },
      "text/plain": [
       "Downloading (…)okenizer_config.json:   0%|          | 0.00/350 [00:00<?, ?B/s]"
      ]
     },
     "metadata": {},
     "output_type": "display_data"
    },
    {
     "data": {
      "application/vnd.jupyter.widget-view+json": {
       "model_id": "992c28fd81894bb88c48f9ccfb092446",
       "version_major": 2,
       "version_minor": 0
      },
      "text/plain": [
       "Downloading (…)9125/train_script.py:   0%|          | 0.00/13.2k [00:00<?, ?B/s]"
      ]
     },
     "metadata": {},
     "output_type": "display_data"
    },
    {
     "data": {
      "application/vnd.jupyter.widget-view+json": {
       "model_id": "58cf11b32db9453b9f771027720ffe4a",
       "version_major": 2,
       "version_minor": 0
      },
      "text/plain": [
       "Downloading (…)7e55de9125/vocab.txt:   0%|          | 0.00/232k [00:00<?, ?B/s]"
      ]
     },
     "metadata": {},
     "output_type": "display_data"
    },
    {
     "data": {
      "application/vnd.jupyter.widget-view+json": {
       "model_id": "2436f94fda504e1388eca59c2e3fce63",
       "version_major": 2,
       "version_minor": 0
      },
      "text/plain": [
       "Downloading (…)5de9125/modules.json:   0%|          | 0.00/349 [00:00<?, ?B/s]"
      ]
     },
     "metadata": {},
     "output_type": "display_data"
    },
    {
     "name": "stdout",
     "output_type": "stream",
     "text": [
      "Sentence: This framework generates embeddings for each input sentence\n",
      "Embedding: [-1.37173748e-02 -4.28515524e-02 -1.56286340e-02  1.40537247e-02\n",
      "  3.95537578e-02  1.21796273e-01  2.94333920e-02 -3.17524076e-02\n",
      "  3.54959816e-02 -7.93139860e-02  1.75878499e-02 -4.04369980e-02\n",
      "  4.97259349e-02  2.54912488e-02 -7.18700886e-02  8.14968571e-02\n",
      "  1.47073052e-03  4.79627326e-02 -4.50336188e-02 -9.92174745e-02\n",
      " -2.81769857e-02  6.45046160e-02  4.44670394e-02 -4.76217009e-02\n",
      " -3.52952369e-02  4.38671596e-02 -5.28566092e-02  4.33036505e-04\n",
      "  1.01921476e-01  1.64072067e-02  3.26996371e-02 -3.45986634e-02\n",
      "  1.21339252e-02  7.94870928e-02  4.58343141e-03  1.57778300e-02\n",
      " -9.68204997e-03  2.87625641e-02 -5.05806319e-02 -1.55793764e-02\n",
      " -2.87906770e-02 -9.62280855e-03  3.15556899e-02  2.27348879e-02\n",
      "  8.71449560e-02 -3.85027118e-02 -8.84718224e-02 -8.75498727e-03\n",
      " -2.12343428e-02  2.08923519e-02 -9.02078003e-02 -5.25732227e-02\n",
      " -1.05638849e-02  2.88310796e-02 -1.61455162e-02  6.17836276e-03\n",
      " -1.23234242e-02 -1.07337134e-02  2.83354092e-02 -5.28567620e-02\n",
      " -3.58618200e-02 -5.97989187e-02 -1.09055433e-02  2.91566327e-02\n",
      "  7.97979087e-02 -3.27854039e-04  6.83500664e-03  1.32718338e-02\n",
      " -4.24619876e-02  1.87657028e-02 -9.89234298e-02  2.09049787e-02\n",
      " -8.69605914e-02 -1.50152203e-02 -4.86201867e-02  8.04414675e-02\n",
      " -3.67698376e-03 -6.65044263e-02  1.14556804e-01 -3.04228980e-02\n",
      "  2.96631604e-02 -2.80695129e-02  4.64990363e-02 -2.25513801e-02\n",
      "  8.54223445e-02  3.15446481e-02  7.34541640e-02 -2.21861899e-02\n",
      " -5.29678538e-02  1.27129974e-02 -5.27339764e-02 -1.06188774e-01\n",
      "  7.04731345e-02  2.76736487e-02 -8.05531442e-02  2.39649676e-02\n",
      " -2.65125223e-02 -2.17330977e-02  4.35275622e-02  4.84711900e-02\n",
      " -2.37067696e-02  2.85768434e-02  1.11846134e-01 -6.34936020e-02\n",
      " -1.58318393e-02 -2.26169322e-02 -1.31027419e-02 -1.62067066e-03\n",
      " -3.60929035e-02 -9.78297293e-02 -4.67729196e-02  1.76271517e-02\n",
      " -3.97492200e-02 -1.76390065e-04  3.39627899e-02 -2.09633671e-02\n",
      "  6.33664057e-03 -2.59411260e-02  8.10410306e-02  6.14393353e-02\n",
      " -5.44593576e-03  6.48276061e-02 -1.16844051e-01  2.36860663e-02\n",
      " -1.32058589e-02 -1.12476468e-01  1.90048870e-02 -1.74660621e-34\n",
      "  5.58949970e-02  1.94244813e-02  4.65439111e-02  5.18645719e-02\n",
      "  3.89390700e-02  3.40541154e-02 -4.32113968e-02  7.90637136e-02\n",
      " -9.79530066e-02 -1.27441054e-02 -2.91870628e-02  1.02052242e-02\n",
      "  1.88115872e-02  1.08942576e-01  6.63465336e-02 -5.35295382e-02\n",
      " -3.29228528e-02  4.69827168e-02  2.28883009e-02  2.74114627e-02\n",
      " -2.91982964e-02  3.12706642e-02 -2.22850721e-02 -1.02282256e-01\n",
      " -2.79116649e-02  1.13792904e-02  9.06308442e-02 -4.75414731e-02\n",
      " -1.00718945e-01 -1.23231979e-02 -7.96928555e-02 -1.44636147e-02\n",
      " -7.76400864e-02 -7.66920298e-03  9.73952655e-03  2.24204622e-02\n",
      "  7.77268410e-02 -3.17155616e-03  2.11537946e-02 -3.30394283e-02\n",
      "  9.55247227e-03 -3.73011827e-02  2.61360686e-02 -9.79086012e-03\n",
      " -6.31505251e-02  5.77433826e-03 -3.80031019e-02  1.29684638e-02\n",
      " -1.82499457e-02 -1.56283211e-02 -1.23361172e-03  5.55579215e-02\n",
      "  1.13076443e-04 -5.61256744e-02  7.40165487e-02  1.84452124e-02\n",
      " -2.66368631e-02  1.31951943e-02  7.50086606e-02 -2.46796552e-02\n",
      " -3.24005857e-02 -1.57674905e-02 -8.03516805e-03 -5.61319292e-03\n",
      "  1.05687892e-02  3.26167978e-03 -3.91990282e-02 -9.38677490e-02\n",
      "  1.14227191e-01  6.57304525e-02 -4.72633764e-02  1.45087801e-02\n",
      " -3.54490466e-02 -3.37761641e-02 -5.15505746e-02 -3.81006836e-03\n",
      " -5.15036322e-02 -5.93429320e-02 -1.69415015e-03  7.42107630e-02\n",
      " -4.20091711e-02 -7.19975084e-02  3.17250378e-02 -1.66303366e-02\n",
      "  3.96983884e-03 -6.52750805e-02  2.77391039e-02 -7.51648918e-02\n",
      "  2.27455311e-02 -3.91368307e-02  1.54315727e-02 -5.54908626e-02\n",
      "  1.23318899e-02 -2.59520523e-02  6.66423663e-02 -6.91259647e-34\n",
      "  3.31629068e-02  8.47928971e-02 -6.65583536e-02  3.33541557e-02\n",
      "  4.71611368e-03  1.35361860e-02 -5.38694225e-02  9.20694247e-02\n",
      " -2.96876524e-02  3.16219553e-02 -2.37497203e-02  1.98770911e-02\n",
      "  1.03446200e-01 -9.06947330e-02  6.30626827e-03  1.42886378e-02\n",
      "  1.19293686e-02  6.43722294e-03  4.20104824e-02  1.25344899e-02\n",
      "  3.93019542e-02  5.35691828e-02 -4.30750400e-02  6.10432737e-02\n",
      " -5.39939065e-05  6.91682473e-02  1.05520291e-02  1.22111747e-02\n",
      " -7.23185018e-02  2.50469781e-02 -5.18371463e-02 -4.36562262e-02\n",
      " -6.71818703e-02  1.34828491e-02 -7.25889131e-02  7.04167737e-03\n",
      "  6.58939108e-02  1.08994441e-02 -2.60012317e-03  5.49969152e-02\n",
      "  5.06966822e-02  3.27948816e-02 -6.68833405e-02  6.45557791e-02\n",
      " -2.52075735e-02 -2.92572379e-02 -1.16696738e-01  3.24064642e-02\n",
      "  5.85858300e-02 -3.51756550e-02 -7.15240315e-02  2.24936288e-02\n",
      " -1.00786723e-01 -4.74544726e-02 -7.61963129e-02 -5.87166324e-02\n",
      "  4.21138629e-02 -7.47213811e-02  1.98468156e-02 -3.36500537e-03\n",
      " -5.29736727e-02  2.74729915e-02  3.45736556e-02 -6.11846484e-02\n",
      "  1.06364824e-01 -9.64119881e-02 -4.55945283e-02  1.51489507e-02\n",
      " -5.13525959e-03 -6.64447621e-02  4.31721546e-02 -1.10405711e-02\n",
      " -9.80253145e-03  7.53783211e-02 -1.49570936e-02 -4.80208583e-02\n",
      "  5.80726676e-02 -2.43896767e-02 -2.23137550e-02 -4.36992086e-02\n",
      "  5.12053818e-02 -3.28625776e-02  1.08763322e-01  6.08926974e-02\n",
      "  3.30793508e-03  5.53820245e-02  8.43201503e-02  1.27087133e-02\n",
      "  3.84465717e-02  6.52325526e-02 -2.94683706e-02  5.08005284e-02\n",
      " -2.09347773e-02  1.46135688e-01  2.25561410e-02 -1.77227761e-08\n",
      " -5.02672605e-02 -2.79202010e-04 -1.00328609e-01  2.42811460e-02\n",
      " -7.54043534e-02 -3.79139893e-02  3.96049917e-02  3.10079921e-02\n",
      " -9.05703474e-03 -6.50411770e-02  4.05453108e-02  4.83390279e-02\n",
      " -4.56962287e-02  4.76006093e-03  2.64360872e-03  9.35614482e-02\n",
      " -4.02599499e-02  3.27401944e-02  1.18298242e-02  5.54344989e-02\n",
      "  1.48052230e-01  7.21188933e-02  2.76982290e-04  1.68651473e-02\n",
      "  8.34878627e-03 -8.76156334e-03 -1.33649623e-02  6.14237003e-02\n",
      "  1.57168172e-02  6.94961324e-02  1.08621754e-02  6.08018450e-02\n",
      " -5.33421561e-02 -3.47924009e-02 -3.36272083e-02  6.93906918e-02\n",
      "  1.22987442e-02 -1.45237431e-01 -2.06971960e-03 -4.61132675e-02\n",
      "  3.72749590e-03 -5.59358485e-03 -1.00659840e-01 -4.45953533e-02\n",
      "  5.40921427e-02  4.98892087e-03  1.49534345e-02 -8.26059803e-02\n",
      "  6.26631081e-02 -5.01908036e-03 -4.81857695e-02 -3.53991091e-02\n",
      "  9.03388485e-03 -2.42338032e-02  5.66267557e-02  2.51529124e-02\n",
      " -1.70708876e-02 -1.24780647e-02  3.19518484e-02  1.38421152e-02\n",
      " -1.55814830e-02  1.00178242e-01  1.23657197e-01 -4.22967002e-02]\n",
      "\n",
      "Sentence: Sentences are passed as a list of string.\n",
      "Embedding: [ 5.64524867e-02  5.50024398e-02  3.13795917e-02  3.39484923e-02\n",
      " -3.54247428e-02  8.34668055e-02  9.88800973e-02  7.27545889e-03\n",
      " -6.68658456e-03 -7.65812490e-03  7.93738440e-02  7.39685493e-04\n",
      "  1.49292080e-02 -1.51047120e-02  3.67674418e-02  4.78743315e-02\n",
      " -4.81969416e-02 -3.76052186e-02 -4.60278317e-02 -8.89816210e-02\n",
      "  1.20228127e-01  1.30663246e-01 -3.73936258e-02  2.47858418e-03\n",
      "  2.55825138e-03  7.25814775e-02 -6.80436492e-02 -5.24696223e-02\n",
      "  4.90234084e-02  2.99563147e-02 -5.84429577e-02 -2.02263389e-02\n",
      "  2.08822098e-02  9.76691768e-02  3.52390558e-02  3.91140617e-02\n",
      "  1.05667887e-02  1.56232447e-03 -1.30822910e-02  8.52902979e-03\n",
      " -4.84092580e-03 -2.03766990e-02 -2.71800924e-02  2.83307396e-02\n",
      "  3.66017818e-02  2.51276158e-02 -9.90862101e-02  1.15626520e-02\n",
      " -3.60380299e-02 -7.23783895e-02 -1.12670109e-01  1.12942141e-02\n",
      " -3.86397280e-02  4.67386246e-02 -2.88460776e-02  2.26703621e-02\n",
      " -8.52407143e-03  3.32815312e-02 -1.06580253e-03 -7.09745586e-02\n",
      " -6.31170049e-02 -5.72186671e-02 -6.16026297e-02  5.47146536e-02\n",
      "  1.18317679e-02 -4.66261394e-02  2.56959721e-02 -7.07413070e-03\n",
      " -5.73842674e-02  4.12839390e-02 -5.91503307e-02  5.89021817e-02\n",
      " -4.41697426e-02  4.65081595e-02 -3.15814726e-02  5.58312573e-02\n",
      "  5.54578304e-02 -5.96533343e-02  4.06407081e-02  4.83764661e-03\n",
      " -4.96768020e-02 -1.00944355e-01  3.40078436e-02  4.13272297e-03\n",
      " -2.93525308e-03  2.11837627e-02 -3.73962186e-02 -2.79066861e-02\n",
      " -4.61768284e-02  5.26138432e-02 -2.79734824e-02 -1.62379220e-01\n",
      "  6.61042035e-02  1.72274187e-02 -5.45112276e-03  4.74474020e-02\n",
      " -3.82237397e-02 -3.96896675e-02  1.34544782e-02  4.49654162e-02\n",
      "  4.53674328e-03  2.82978732e-02  8.36633071e-02 -1.00858007e-02\n",
      " -1.19354002e-01 -3.84624302e-02  4.82858531e-02 -9.46083739e-02\n",
      "  1.91854239e-02 -9.96518433e-02 -6.30596504e-02  3.02695855e-02\n",
      "  1.17402561e-02 -4.78372611e-02 -6.20266423e-03 -3.32850702e-02\n",
      " -4.04388411e-03  1.28307045e-02  4.05253954e-02  7.56476894e-02\n",
      "  2.92434897e-02  2.84270402e-02 -2.78939027e-02  1.66858025e-02\n",
      " -2.47961897e-02 -6.83650821e-02  2.89968867e-02 -5.39867674e-33\n",
      " -2.69014505e-03 -2.65069269e-02 -6.47944340e-04 -8.46194942e-03\n",
      " -7.35154524e-02  4.94085532e-03 -5.97842261e-02  1.03438245e-02\n",
      "  2.12904206e-03 -2.88217561e-03 -3.17076594e-02 -9.42364335e-02\n",
      "  3.03020384e-02  7.00226426e-02  4.50685471e-02  3.69439572e-02\n",
      "  1.13593573e-02  3.53026874e-02  5.50452294e-03  1.34418136e-03\n",
      "  3.46123381e-03  7.75047839e-02  5.45112342e-02 -7.92055950e-02\n",
      " -9.31696817e-02 -4.03398573e-02  3.10668591e-02 -3.83081622e-02\n",
      " -5.89443296e-02  1.93331745e-02 -2.67159790e-02 -7.91938156e-02\n",
      "  1.04178835e-04  7.70621300e-02  4.16603535e-02  8.90932381e-02\n",
      "  3.56843323e-02 -1.09153166e-02  3.71498354e-02 -2.07070336e-02\n",
      " -2.46100444e-02 -2.05025394e-02  2.62201224e-02  3.43590602e-02\n",
      "  4.39251103e-02 -8.20519403e-03 -8.40710104e-02  4.24170829e-02\n",
      "  4.87499014e-02  5.95384724e-02  2.87747663e-02  3.37638259e-02\n",
      " -4.07442898e-02 -1.66367879e-03  7.91927576e-02  3.41088362e-02\n",
      " -5.72817342e-04  1.87749658e-02 -1.36963939e-02  7.38333166e-02\n",
      "  5.74477366e-04  8.33505243e-02  5.60811087e-02 -1.13710957e-02\n",
      "  4.42611426e-02  2.69581750e-02 -4.80535887e-02 -3.15087400e-02\n",
      "  7.75226429e-02  1.81773100e-02 -8.83005261e-02 -7.85519183e-03\n",
      " -6.22242838e-02  7.19372854e-02 -2.33475491e-02  6.52483711e-03\n",
      " -9.49526951e-03 -9.88312960e-02  4.01306413e-02  3.07397284e-02\n",
      " -2.21606977e-02 -9.45911407e-02  1.02367904e-02  1.02187783e-01\n",
      " -4.12959903e-02 -3.15778069e-02  4.74752039e-02 -1.10209785e-01\n",
      "  1.69615168e-02 -3.71709168e-02 -1.03261918e-02 -4.72538434e-02\n",
      " -1.20213823e-02 -1.93255134e-02  5.79292215e-02  4.23865814e-34\n",
      "  3.92013341e-02  8.41361880e-02 -1.02946714e-01  6.92259818e-02\n",
      "  1.68821551e-02 -3.26760598e-02  9.65962373e-03  1.80899762e-02\n",
      "  2.17939839e-02  1.63189322e-02 -9.69292223e-02  3.74850561e-03\n",
      " -2.38456707e-02 -3.44056003e-02  7.11962357e-02  9.21911385e-04\n",
      " -6.23858999e-03  3.23754400e-02 -8.90347990e-04  5.01905754e-03\n",
      " -4.24538068e-02  9.89083871e-02 -4.60320935e-02  4.69704829e-02\n",
      " -1.75284259e-02 -7.02515524e-03  1.32743875e-02 -5.30152246e-02\n",
      "  2.66406895e-03  1.45819075e-02  7.43345357e-03 -3.07131689e-02\n",
      " -2.09416300e-02  8.24110135e-02 -5.15893921e-02 -2.71178335e-02\n",
      "  1.17583029e-01  7.72505067e-03 -1.89523045e-02  3.94559205e-02\n",
      "  7.17360601e-02  2.59116627e-02  2.75191665e-02  9.50542092e-03\n",
      " -3.02355494e-02 -4.07944806e-02 -1.04028478e-01 -7.97422975e-03\n",
      " -3.64460330e-03  3.29716541e-02 -2.35954728e-02 -7.50518963e-03\n",
      " -5.82234189e-02 -3.17906067e-02 -4.18049432e-02  2.17453595e-02\n",
      " -6.67292178e-02 -4.89104167e-02  4.58516506e-03 -2.66046226e-02\n",
      " -1.12597018e-01  5.11167571e-02  5.48534282e-02 -6.69857115e-02\n",
      "  1.26766339e-01 -8.59487429e-02 -5.94231449e-02 -2.92188302e-03\n",
      " -1.14875613e-02 -1.26025781e-01 -3.48280789e-03 -9.12001953e-02\n",
      " -1.22933060e-01  1.33777270e-02 -4.75774929e-02 -6.57933131e-02\n",
      " -3.39409895e-02 -3.07107549e-02 -5.22033907e-02 -2.35464219e-02\n",
      "  5.90035245e-02 -3.85757871e-02  3.19701284e-02  4.05118428e-02\n",
      "  1.67077798e-02 -3.58280987e-02  1.45688038e-02  3.20137665e-02\n",
      " -1.34843402e-02  6.07819818e-02 -8.31398554e-03 -1.08105680e-02\n",
      "  4.69410866e-02  7.66133815e-02 -4.23400179e-02 -2.11963318e-08\n",
      " -7.25292563e-02 -4.20228206e-02 -6.12374581e-02  5.24666943e-02\n",
      " -1.42363701e-02  1.18487161e-02 -1.40788984e-02 -3.67530361e-02\n",
      " -4.44977470e-02 -1.15140183e-02  5.23316823e-02  2.96651535e-02\n",
      " -4.62780520e-02 -3.70892920e-02  1.89129598e-02  2.04306841e-02\n",
      " -2.24006064e-02 -1.48562919e-02 -1.79504156e-02  4.20007482e-02\n",
      "  1.40942633e-02 -2.83492208e-02 -1.16863027e-01  1.48956822e-02\n",
      " -7.30585307e-04  5.66028357e-02 -2.68740263e-02  1.09106667e-01\n",
      "  2.94560217e-03  1.19267881e-01  1.14212438e-01  8.92973468e-02\n",
      " -1.70255471e-02 -4.99053784e-02 -2.11930703e-02  3.18421274e-02\n",
      "  7.03436211e-02 -1.02929458e-01  8.23816806e-02  2.81968042e-02\n",
      "  3.21146548e-02  3.79108153e-02 -1.09553136e-01  8.19620192e-02\n",
      "  8.73216912e-02 -5.73563837e-02 -2.01709103e-02 -5.69444634e-02\n",
      " -1.30338334e-02 -5.55684417e-02 -1.32966265e-02  8.64010397e-03\n",
      "  5.30012175e-02 -4.06847373e-02  2.71708909e-02 -2.55947676e-03\n",
      "  3.05775627e-02 -4.61865142e-02  4.68035461e-03 -3.64947133e-02\n",
      "  6.80802912e-02  6.65087774e-02  8.49152282e-02 -3.32849398e-02]\n",
      "\n",
      "Sentence: The quick brown fox jumps over the lazy dog.\n",
      "Embedding: [ 4.39335145e-02  5.89343905e-02  4.81784083e-02  7.75481388e-02\n",
      "  2.67443974e-02 -3.76295820e-02 -2.60508177e-03 -5.99430427e-02\n",
      " -2.49601854e-03  2.20728368e-02  4.80259433e-02  5.57552874e-02\n",
      " -3.89454030e-02 -2.66167857e-02  7.69340061e-03 -2.62376424e-02\n",
      " -3.64160910e-02 -3.78161222e-02  7.40781128e-02 -4.95050326e-02\n",
      " -5.85217103e-02 -6.36196584e-02  3.24350148e-02  2.20085755e-02\n",
      " -7.10637793e-02 -3.31577845e-02 -6.94104135e-02 -5.00373729e-02\n",
      "  7.46267885e-02 -1.11133814e-01 -1.23063065e-02  3.77456471e-02\n",
      " -2.80313455e-02  1.45353889e-02 -3.15585621e-02 -8.05836469e-02\n",
      "  5.83525524e-02  2.59005814e-03  3.92802171e-02  2.57695448e-02\n",
      "  4.98505943e-02 -1.75627891e-03 -4.55297716e-02  2.92607509e-02\n",
      " -1.02017239e-01  5.22287674e-02 -7.90899843e-02 -1.02857556e-02\n",
      "  9.20250453e-03  1.30732553e-02 -4.04778123e-02 -2.77925581e-02\n",
      "  1.24667529e-02  6.72832653e-02  6.81247711e-02 -7.57117802e-03\n",
      " -6.09941641e-03 -4.23776805e-02  5.17816246e-02 -1.56707577e-02\n",
      "  9.56359692e-03  4.12390344e-02  2.14959029e-02  1.04293507e-02\n",
      "  2.73349900e-02  1.87062416e-02 -2.69607287e-02 -7.00542331e-02\n",
      " -1.04700461e-01 -1.89873273e-03  1.77017115e-02 -5.74725494e-02\n",
      " -1.44223366e-02  4.70465282e-04  2.33228947e-03 -2.51920689e-02\n",
      "  4.93004061e-02 -5.09609766e-02  6.31983057e-02  1.49165252e-02\n",
      " -2.70766672e-02 -4.52875681e-02 -4.90594357e-02  3.74940485e-02\n",
      "  3.84579822e-02  1.56903197e-03  3.09922397e-02  2.01630499e-02\n",
      " -1.24363732e-02 -3.06719951e-02 -2.78819185e-02 -6.89182952e-02\n",
      " -5.13677001e-02  2.14795712e-02  1.15747023e-02  1.25411106e-03\n",
      "  1.88765451e-02 -4.42318693e-02 -4.49817665e-02 -3.41872219e-03\n",
      "  1.31131355e-02  2.00099535e-02  1.21099770e-01  2.31074709e-02\n",
      " -2.20159441e-02 -3.28846872e-02 -3.15509457e-03  1.17858137e-04\n",
      "  9.91499126e-02  1.65239442e-02 -4.69674077e-03 -1.45366918e-02\n",
      " -3.71076073e-03  9.65136364e-02  2.85907984e-02  2.13481747e-02\n",
      " -7.17645437e-02 -2.41142046e-02 -4.40940820e-02 -1.07346892e-01\n",
      "  6.79946020e-02  1.30466759e-01 -7.97029510e-02  6.79506641e-03\n",
      " -2.37511545e-02 -4.61636744e-02 -2.99650766e-02 -3.69410083e-33\n",
      "  7.30969980e-02 -2.20171418e-02 -8.61464590e-02 -7.14379698e-02\n",
      " -6.36741817e-02 -7.21863359e-02 -5.93043631e-03 -2.33641695e-02\n",
      " -2.83658262e-02  4.77434918e-02 -8.06176737e-02 -1.56475778e-03\n",
      "  1.38443140e-02 -2.86236126e-02 -3.35386544e-02 -1.13777533e-01\n",
      " -9.17635020e-03 -1.08101266e-02  3.23195979e-02  5.88380881e-02\n",
      "  3.34208682e-02  1.07987918e-01 -3.72712873e-02 -2.96770632e-02\n",
      "  5.17189838e-02 -2.25338638e-02 -6.96090832e-02 -2.14475468e-02\n",
      " -2.33411007e-02  4.82199714e-02 -3.58766131e-02 -4.68991399e-02\n",
      " -3.97873819e-02  1.10813215e-01 -1.43007077e-02 -1.18464492e-01\n",
      "  5.82915284e-02 -6.25889227e-02 -2.94041168e-02  6.03238903e-02\n",
      " -2.44411966e-03  1.60116181e-02  2.67233830e-02  2.49530543e-02\n",
      " -6.49318844e-02 -1.06801726e-02  2.81465072e-02  1.03563759e-02\n",
      " -6.63604238e-04  1.98186394e-02 -3.04288026e-02  6.28422387e-03\n",
      "  5.15268371e-02 -4.75375168e-02 -6.44421130e-02  9.55031812e-02\n",
      "  7.55858198e-02 -2.81574633e-02 -3.49965990e-02  1.01816386e-01\n",
      "  1.98732633e-02 -3.68036777e-02  2.93526798e-03 -5.00745028e-02\n",
      "  1.50932133e-01 -6.16079755e-02 -8.58812630e-02  7.13991327e-03\n",
      " -1.33065870e-02  7.80405328e-02  1.75250880e-02  4.21278961e-02\n",
      "  3.57939936e-02 -1.32950440e-01  3.56970169e-02 -2.03116853e-02\n",
      "  1.24910194e-02 -3.80355231e-02  4.91543449e-02 -1.56540908e-02\n",
      "  1.21418238e-01 -8.08644891e-02 -4.68782037e-02  4.10843305e-02\n",
      " -1.84318125e-02  6.69690743e-02  4.33596177e-03  2.27315091e-02\n",
      " -1.36428960e-02 -4.53238934e-02 -3.92828882e-02 -6.29889499e-03\n",
      "  5.29609956e-02 -3.69064733e-02  7.11676776e-02  2.33343416e-33\n",
      "  1.05231375e-01 -4.81874086e-02  6.95918947e-02  6.56976402e-02\n",
      " -4.65149023e-02  5.14492579e-02 -1.24475360e-02  3.20872031e-02\n",
      " -9.23356265e-02  5.00932708e-02 -3.28876115e-02  1.39138782e-02\n",
      " -8.70235730e-04 -4.90905484e-03  1.03946380e-01  3.21623142e-04\n",
      "  5.28110415e-02 -1.17990533e-02  2.31565777e-02  1.31768323e-02\n",
      " -5.25962524e-02  3.26702446e-02  3.08649032e-04  6.41129017e-02\n",
      "  3.88500877e-02  5.88008538e-02  8.29793140e-02 -1.88149456e-02\n",
      " -2.26377342e-02 -1.00473642e-01 -3.83752473e-02 -5.88081628e-02\n",
      "  1.82420202e-03 -4.26995046e-02  2.50195190e-02  6.40059933e-02\n",
      " -3.77482846e-02 -6.83901133e-03 -2.54605012e-03 -9.76042822e-02\n",
      "  1.88476145e-02 -8.83187284e-04  1.73611976e-02  7.10790455e-02\n",
      "  3.30393277e-02  6.93422742e-03 -5.60523346e-02  5.14634736e-02\n",
      " -4.29542214e-02  4.60077412e-02 -8.78830161e-03  3.17289345e-02\n",
      "  4.93965819e-02  2.95190047e-02 -5.05192876e-02 -5.43186963e-02\n",
      "  1.49938409e-04 -2.76614390e-02  3.46878581e-02 -2.10890453e-02\n",
      "  1.38059622e-02  2.99886707e-02  1.39744570e-02 -4.26469697e-03\n",
      " -1.50337387e-02 -8.76094997e-02 -6.85053840e-02 -4.28141542e-02\n",
      "  7.76944831e-02 -7.10285679e-02 -7.37689389e-03  2.13727150e-02\n",
      "  1.35562401e-02 -7.90464804e-02  5.47664380e-03  8.30663443e-02\n",
      "  1.14148006e-01  1.80759223e-03  8.75490978e-02 -4.16045003e-02\n",
      "  1.55416336e-02 -1.01206554e-02 -7.32439803e-03  1.07966093e-02\n",
      " -6.62816837e-02  3.98414135e-02 -1.16711520e-01  6.42994121e-02\n",
      "  4.02920097e-02 -6.54741600e-02  1.95052736e-02  8.09995756e-02\n",
      "  5.36463857e-02  7.67969862e-02 -1.34852491e-02 -1.76919031e-08\n",
      " -4.43935394e-02  9.20644309e-03 -8.79590213e-02  4.26921584e-02\n",
      "  7.31365085e-02  1.68427434e-02 -4.03262973e-02  1.85131431e-02\n",
      "  8.44172090e-02 -3.74477282e-02  3.02996207e-02  2.90641636e-02\n",
      "  6.36878684e-02  2.89750490e-02 -1.47269536e-02  1.77543107e-02\n",
      " -3.36895250e-02  1.73160974e-02  3.37874927e-02  1.76826030e-01\n",
      " -1.75533295e-02 -6.03077784e-02 -1.43394666e-02 -2.38536429e-02\n",
      " -4.45531420e-02 -2.89850123e-02 -8.96776393e-02 -1.75937277e-03\n",
      " -2.61486229e-02  5.94000239e-03 -5.18355146e-02  8.57279748e-02\n",
      " -8.18398893e-02  8.35437048e-03  4.00789715e-02  4.17764038e-02\n",
      "  1.04573555e-01 -2.86564534e-03  1.96691193e-02  5.81046613e-03\n",
      "  1.33253001e-02  4.51001301e-02 -2.17588283e-02 -1.39493234e-02\n",
      " -6.86992928e-02 -2.94114184e-03 -3.10764872e-02 -1.05854452e-01\n",
      "  6.91624284e-02 -4.24114615e-02 -4.67682071e-02 -3.64751071e-02\n",
      "  4.50399965e-02  6.09816872e-02 -6.56561404e-02 -5.45641780e-03\n",
      " -1.86226498e-02 -6.31484538e-02 -3.87436859e-02  3.46733965e-02\n",
      "  5.55458255e-02  5.21627851e-02  5.61065227e-02  1.02063932e-01]\n",
      "\n"
     ]
    }
   ],
   "source": [
    "from sentence_transformers import SentenceTransformer\n",
    "model = SentenceTransformer('all-MiniLM-L6-v2')\n",
    "\n",
    "#Our sentences we like to encode\n",
    "sentences = ['This framework generates embeddings for each input sentence',\n",
    "    'Sentences are passed as a list of string.',\n",
    "    'The quick brown fox jumps over the lazy dog.']\n",
    "\n",
    "#Sentences are encoded by calling model.encode()\n",
    "embeddings = model.encode(sentences)\n",
    "\n",
    "#Print the embeddings\n",
    "for sentence, embedding in zip(sentences, embeddings):\n",
    "    print(\"Sentence:\", sentence)\n",
    "    print(\"Embedding:\", embedding)\n",
    "    print(\"\")"
   ]
  },
  {
   "cell_type": "code",
   "execution_count": 13,
   "metadata": {},
   "outputs": [
    {
     "name": "stdout",
     "output_type": "stream",
     "text": [
      "fastfacts-what-is-climate-change.pdf\n"
     ]
    },
    {
     "ename": "TypeError",
     "evalue": "'SegmentAPI' object is not subscriptable",
     "output_type": "error",
     "traceback": [
      "\u001b[1;31m---------------------------------------------------------------------------\u001b[0m",
      "\u001b[1;31mTypeError\u001b[0m                                 Traceback (most recent call last)",
      "\u001b[1;32mc:\\Users\\User\\Desktop\\PYTHON_TUTORIAL\\LLM\\chat_with_pdf.ipynb Cell 8\u001b[0m line \u001b[0;36m4\n\u001b[0;32m     <a href='vscode-notebook-cell:/c%3A/Users/User/Desktop/PYTHON_TUTORIAL/LLM/chat_with_pdf.ipynb#X10sZmlsZQ%3D%3D?line=36'>37</a>\u001b[0m     db \u001b[39m=\u001b[39m \u001b[39mNone\u001b[39;00m\n\u001b[0;32m     <a href='vscode-notebook-cell:/c%3A/Users/User/Desktop/PYTHON_TUTORIAL/LLM/chat_with_pdf.ipynb#X10sZmlsZQ%3D%3D?line=38'>39</a>\u001b[0m \u001b[39mif\u001b[39;00m \u001b[39m__name__\u001b[39m \u001b[39m==\u001b[39m \u001b[39m\"\u001b[39m\u001b[39m__main__\u001b[39m\u001b[39m\"\u001b[39m:\n\u001b[1;32m---> <a href='vscode-notebook-cell:/c%3A/Users/User/Desktop/PYTHON_TUTORIAL/LLM/chat_with_pdf.ipynb#X10sZmlsZQ%3D%3D?line=39'>40</a>\u001b[0m     main()\n",
      "\u001b[1;32mc:\\Users\\User\\Desktop\\PYTHON_TUTORIAL\\LLM\\chat_with_pdf.ipynb Cell 8\u001b[0m line \u001b[0;36m3\n\u001b[0;32m     <a href='vscode-notebook-cell:/c%3A/Users/User/Desktop/PYTHON_TUTORIAL/LLM/chat_with_pdf.ipynb#X10sZmlsZQ%3D%3D?line=31'>32</a>\u001b[0m embeddings \u001b[39m=\u001b[39m SentenceTransformerEmbeddings(model_name\u001b[39m=\u001b[39m\u001b[39m'\u001b[39m\u001b[39mall-MiniLM-L6-v2\u001b[39m\u001b[39m'\u001b[39m)\n\u001b[0;32m     <a href='vscode-notebook-cell:/c%3A/Users/User/Desktop/PYTHON_TUTORIAL/LLM/chat_with_pdf.ipynb#X10sZmlsZQ%3D%3D?line=33'>34</a>\u001b[0m \u001b[39m# Create Vector_Store\u001b[39;00m\n\u001b[1;32m---> <a href='vscode-notebook-cell:/c%3A/Users/User/Desktop/PYTHON_TUTORIAL/LLM/chat_with_pdf.ipynb#X10sZmlsZQ%3D%3D?line=34'>35</a>\u001b[0m db \u001b[39m=\u001b[39m Chroma\u001b[39m.\u001b[39;49mfrom_documents(texts, embeddings, client_settings\u001b[39m=\u001b[39;49mclients)\n\u001b[0;32m     <a href='vscode-notebook-cell:/c%3A/Users/User/Desktop/PYTHON_TUTORIAL/LLM/chat_with_pdf.ipynb#X10sZmlsZQ%3D%3D?line=35'>36</a>\u001b[0m db\u001b[39m.\u001b[39mpersist()\n\u001b[0;32m     <a href='vscode-notebook-cell:/c%3A/Users/User/Desktop/PYTHON_TUTORIAL/LLM/chat_with_pdf.ipynb#X10sZmlsZQ%3D%3D?line=36'>37</a>\u001b[0m db \u001b[39m=\u001b[39m \u001b[39mNone\u001b[39;00m\n",
      "File \u001b[1;32mc:\\Users\\User\\anaconda3\\lib\\site-packages\\langchain\\vectorstores\\chroma.py:489\u001b[0m, in \u001b[0;36mChroma.from_documents\u001b[1;34m(cls, documents, embedding, ids, collection_name, persist_directory, client_settings, client, **kwargs)\u001b[0m\n\u001b[0;32m    487\u001b[0m texts \u001b[39m=\u001b[39m [doc\u001b[39m.\u001b[39mpage_content \u001b[39mfor\u001b[39;00m doc \u001b[39min\u001b[39;00m documents]\n\u001b[0;32m    488\u001b[0m metadatas \u001b[39m=\u001b[39m [doc\u001b[39m.\u001b[39mmetadata \u001b[39mfor\u001b[39;00m doc \u001b[39min\u001b[39;00m documents]\n\u001b[1;32m--> 489\u001b[0m \u001b[39mreturn\u001b[39;00m \u001b[39mcls\u001b[39;49m\u001b[39m.\u001b[39;49mfrom_texts(\n\u001b[0;32m    490\u001b[0m     texts\u001b[39m=\u001b[39;49mtexts,\n\u001b[0;32m    491\u001b[0m     embedding\u001b[39m=\u001b[39;49membedding,\n\u001b[0;32m    492\u001b[0m     metadatas\u001b[39m=\u001b[39;49mmetadatas,\n\u001b[0;32m    493\u001b[0m     ids\u001b[39m=\u001b[39;49mids,\n\u001b[0;32m    494\u001b[0m     collection_name\u001b[39m=\u001b[39;49mcollection_name,\n\u001b[0;32m    495\u001b[0m     persist_directory\u001b[39m=\u001b[39;49mpersist_directory,\n\u001b[0;32m    496\u001b[0m     client_settings\u001b[39m=\u001b[39;49mclient_settings,\n\u001b[0;32m    497\u001b[0m     client\u001b[39m=\u001b[39;49mclient,\n\u001b[0;32m    498\u001b[0m )\n",
      "File \u001b[1;32mc:\\Users\\User\\anaconda3\\lib\\site-packages\\langchain\\vectorstores\\chroma.py:450\u001b[0m, in \u001b[0;36mChroma.from_texts\u001b[1;34m(cls, texts, embedding, metadatas, ids, collection_name, persist_directory, client_settings, client, **kwargs)\u001b[0m\n\u001b[0;32m    420\u001b[0m \u001b[39m@classmethod\u001b[39m\n\u001b[0;32m    421\u001b[0m \u001b[39mdef\u001b[39;00m \u001b[39mfrom_texts\u001b[39m(\n\u001b[0;32m    422\u001b[0m     \u001b[39mcls\u001b[39m: Type[Chroma],\n\u001b[1;32m   (...)\u001b[0m\n\u001b[0;32m    431\u001b[0m     \u001b[39m*\u001b[39m\u001b[39m*\u001b[39mkwargs: Any,\n\u001b[0;32m    432\u001b[0m ) \u001b[39m-\u001b[39m\u001b[39m>\u001b[39m Chroma:\n\u001b[0;32m    433\u001b[0m \u001b[39m    \u001b[39m\u001b[39m\"\"\"Create a Chroma vectorstore from a raw documents.\u001b[39;00m\n\u001b[0;32m    434\u001b[0m \n\u001b[0;32m    435\u001b[0m \u001b[39m    If a persist_directory is specified, the collection will be persisted there.\u001b[39;00m\n\u001b[1;32m   (...)\u001b[0m\n\u001b[0;32m    448\u001b[0m \u001b[39m        Chroma: Chroma vectorstore.\u001b[39;00m\n\u001b[0;32m    449\u001b[0m \u001b[39m    \"\"\"\u001b[39;00m\n\u001b[1;32m--> 450\u001b[0m     chroma_collection \u001b[39m=\u001b[39m \u001b[39mcls\u001b[39;49m(\n\u001b[0;32m    451\u001b[0m         collection_name\u001b[39m=\u001b[39;49mcollection_name,\n\u001b[0;32m    452\u001b[0m         embedding_function\u001b[39m=\u001b[39;49membedding,\n\u001b[0;32m    453\u001b[0m         persist_directory\u001b[39m=\u001b[39;49mpersist_directory,\n\u001b[0;32m    454\u001b[0m         client_settings\u001b[39m=\u001b[39;49mclient_settings,\n\u001b[0;32m    455\u001b[0m         client\u001b[39m=\u001b[39;49mclient,\n\u001b[0;32m    456\u001b[0m     )\n\u001b[0;32m    457\u001b[0m     chroma_collection\u001b[39m.\u001b[39madd_texts(texts\u001b[39m=\u001b[39mtexts, metadatas\u001b[39m=\u001b[39mmetadatas, ids\u001b[39m=\u001b[39mids)\n\u001b[0;32m    458\u001b[0m     \u001b[39mreturn\u001b[39;00m chroma_collection\n",
      "File \u001b[1;32mc:\\Users\\User\\anaconda3\\lib\\site-packages\\langchain\\vectorstores\\chroma.py:90\u001b[0m, in \u001b[0;36mChroma.__init__\u001b[1;34m(self, collection_name, embedding_function, persist_directory, client_settings, collection_metadata, client)\u001b[0m\n\u001b[0;32m     85\u001b[0m         \u001b[39mif\u001b[39;00m persist_directory \u001b[39mis\u001b[39;00m \u001b[39mnot\u001b[39;00m \u001b[39mNone\u001b[39;00m:\n\u001b[0;32m     86\u001b[0m             \u001b[39mself\u001b[39m\u001b[39m.\u001b[39m_client_settings \u001b[39m=\u001b[39m chromadb\u001b[39m.\u001b[39mconfig\u001b[39m.\u001b[39mSettings(\n\u001b[0;32m     87\u001b[0m                 chroma_db_impl\u001b[39m=\u001b[39m\u001b[39m\"\u001b[39m\u001b[39mduckdb+parquet\u001b[39m\u001b[39m\"\u001b[39m,\n\u001b[0;32m     88\u001b[0m                 persist_directory\u001b[39m=\u001b[39mpersist_directory,\n\u001b[0;32m     89\u001b[0m             )\n\u001b[1;32m---> 90\u001b[0m     \u001b[39mself\u001b[39m\u001b[39m.\u001b[39m_client \u001b[39m=\u001b[39m chromadb\u001b[39m.\u001b[39;49mClient(\u001b[39mself\u001b[39;49m\u001b[39m.\u001b[39;49m_client_settings)\n\u001b[0;32m     92\u001b[0m \u001b[39mself\u001b[39m\u001b[39m.\u001b[39m_embedding_function \u001b[39m=\u001b[39m embedding_function\n\u001b[0;32m     93\u001b[0m \u001b[39mself\u001b[39m\u001b[39m.\u001b[39m_persist_directory \u001b[39m=\u001b[39m (\n\u001b[0;32m     94\u001b[0m     \u001b[39mself\u001b[39m\u001b[39m.\u001b[39m_client_settings\u001b[39m.\u001b[39mpersist_directory \u001b[39mor\u001b[39;00m persist_directory\n\u001b[0;32m     95\u001b[0m )\n",
      "File \u001b[1;32mc:\\Users\\User\\anaconda3\\lib\\site-packages\\chromadb\\__init__.py:140\u001b[0m, in \u001b[0;36mClient\u001b[1;34m(settings)\u001b[0m\n\u001b[0;32m    137\u001b[0m \u001b[39mdef\u001b[39;00m \u001b[39mClient\u001b[39m(settings: Settings \u001b[39m=\u001b[39m __settings) \u001b[39m-\u001b[39m\u001b[39m>\u001b[39m API:\n\u001b[0;32m    138\u001b[0m \u001b[39m    \u001b[39m\u001b[39m\"\"\"Return a running chroma.API instance\"\"\"\u001b[39;00m\n\u001b[1;32m--> 140\u001b[0m     system \u001b[39m=\u001b[39m System(settings)\n\u001b[0;32m    142\u001b[0m     telemetry_client \u001b[39m=\u001b[39m system\u001b[39m.\u001b[39minstance(Telemetry)\n\u001b[0;32m    143\u001b[0m     api \u001b[39m=\u001b[39m system\u001b[39m.\u001b[39minstance(API)\n",
      "File \u001b[1;32mc:\\Users\\User\\anaconda3\\lib\\site-packages\\chromadb\\config.py:228\u001b[0m, in \u001b[0;36mSystem.__init__\u001b[1;34m(self, settings)\u001b[0m\n\u001b[0;32m    226\u001b[0m \u001b[39m# Validate settings don't contain any legacy config values\u001b[39;00m\n\u001b[0;32m    227\u001b[0m \u001b[39mfor\u001b[39;00m key \u001b[39min\u001b[39;00m _legacy_config_keys:\n\u001b[1;32m--> 228\u001b[0m     \u001b[39mif\u001b[39;00m settings[key] \u001b[39mis\u001b[39;00m \u001b[39mnot\u001b[39;00m \u001b[39mNone\u001b[39;00m:\n\u001b[0;32m    229\u001b[0m         \u001b[39mraise\u001b[39;00m \u001b[39mValueError\u001b[39;00m(LEGACY_ERROR)\n\u001b[0;32m    231\u001b[0m \u001b[39mself\u001b[39m\u001b[39m.\u001b[39msettings \u001b[39m=\u001b[39m settings\n",
      "\u001b[1;31mTypeError\u001b[0m: 'SegmentAPI' object is not subscriptable"
     ]
    }
   ],
   "source": [
    "from langchain.document_loaders import PyPDFLoader,DirectoryLoader,PDFMinerLoader\n",
    "from langchain.text_splitter import RecursiveCharacterTextSplitter\n",
    "from langchain.embeddings import SentenceTransformerEmbeddings\n",
    "from langchain.vectorstores import Chroma\n",
    "import os\n",
    "#from constant import CLIENTS\n",
    "from sentence_transformers import SentenceTransformer\n",
    "\n",
    "\n",
    "\n",
    "persist_directory =\"db\"\n",
    "\n",
    "import chromadb\n",
    "clients = chromadb.PersistentClient(path=\"db\")\n",
    "\n",
    "\n",
    "def main():\n",
    "\n",
    "    ##Loading document and splitting it\n",
    "    for root, dirs, files in os.walk('docs'):\n",
    "        for file in files:\n",
    "            if file.endswith(\".pdf\"):\n",
    "                print(file)\n",
    "                loader =PDFMinerLoader(os.path.join(root, file))\n",
    "\n",
    "    # Create the split\n",
    "    documents = loader.load()\n",
    "    text_splitter =  RecursiveCharacterTextSplitter(chunk_size=500, chunk_overlap=500)\n",
    "    texts = text_splitter.split_documents(documents)\n",
    "\n",
    "    # Create Embeddings\n",
    "    embeddings = SentenceTransformerEmbeddings(model_name='all-MiniLM-L6-v2')\n",
    "\n",
    "    # Create Vector_Store\n",
    "    db = Chroma.from_documents(texts, embeddings, client_settings=clients)\n",
    "    db.persist()\n",
    "    db = None\n",
    "\n",
    "if __name__ == \"__main__\":\n",
    "    main()"
   ]
  },
  {
   "cell_type": "code",
   "execution_count": 30,
   "metadata": {},
   "outputs": [],
   "source": [
    "from langchain.document_loaders import PyPDFLoader,DirectoryLoader,PDFMinerLoader\n",
    "from langchain.text_splitter import RecursiveCharacterTextSplitter\n",
    "from langchain.embeddings import SentenceTransformerEmbeddings\n",
    "from langchain.vectorstores import FAISS\n",
    "import os\n",
    "#from constant import CLIENTS\n",
    "from sentence_transformers import SentenceTransformer\n"
   ]
  },
  {
   "cell_type": "code",
   "execution_count": 22,
   "metadata": {},
   "outputs": [
    {
     "name": "stdout",
     "output_type": "stream",
     "text": [
      "fastfacts-what-is-climate-change.pdf\n"
     ]
    }
   ],
   "source": [
    "##Loading document and splitting it\n",
    "for root, dirs, files in os.walk('docs'):\n",
    "    for file in files:\n",
    "        if file.endswith(\".pdf\"):\n",
    "            print(file)\n",
    "            loader = PyPDFLoader(os.path.join(root, file))\n",
    "\n",
    "# Create the split\n",
    "documents = loader.load()\n",
    "text_splitter =  RecursiveCharacterTextSplitter(chunk_size=500, chunk_overlap=200)\n",
    "texts = text_splitter.split_documents(documents)\n"
   ]
  },
  {
   "cell_type": "code",
   "execution_count": 23,
   "metadata": {},
   "outputs": [
    {
     "data": {
      "text/plain": [
       "15"
      ]
     },
     "execution_count": 23,
     "metadata": {},
     "output_type": "execute_result"
    }
   ],
   "source": [
    "len(texts)"
   ]
  },
  {
   "cell_type": "code",
   "execution_count": 34,
   "metadata": {},
   "outputs": [],
   "source": [
    "from sentence_transformers import SentenceTransformer\n",
    "embeddings = SentenceTransformer('all-MiniLM-L6-v2')\n",
    "# embeddings = model.encode(sentences)"
   ]
  },
  {
   "cell_type": "code",
   "execution_count": 25,
   "metadata": {},
   "outputs": [],
   "source": [
    "from langchain.vectorstores import Chroma"
   ]
  },
  {
   "cell_type": "code",
   "execution_count": 26,
   "metadata": {},
   "outputs": [],
   "source": [
    "persist_directory = 'db'"
   ]
  },
  {
   "cell_type": "code",
   "execution_count": 27,
   "metadata": {},
   "outputs": [
    {
     "name": "stderr",
     "output_type": "stream",
     "text": [
      "'rm' is not recognized as an internal or external command,\n",
      "operable program or batch file.\n"
     ]
    }
   ],
   "source": [
    "!rm -rf ./db"
   ]
  },
  {
   "cell_type": "code",
   "execution_count": 37,
   "metadata": {},
   "outputs": [
    {
     "ename": "AttributeError",
     "evalue": "'SentenceTransformer' object has no attribute 'embed_documents'",
     "output_type": "error",
     "traceback": [
      "\u001b[1;31m---------------------------------------------------------------------------\u001b[0m",
      "\u001b[1;31mAttributeError\u001b[0m                            Traceback (most recent call last)",
      "\u001b[1;32mc:\\Users\\User\\Desktop\\PYTHON_TUTORIAL\\LLM\\chat_with_pdf.ipynb Cell 16\u001b[0m line \u001b[0;36m5\n\u001b[0;32m      <a href='vscode-notebook-cell:/c%3A/Users/User/Desktop/PYTHON_TUTORIAL/LLM/chat_with_pdf.ipynb#X21sZmlsZQ%3D%3D?line=3'>4</a>\u001b[0m \u001b[39mtry\u001b[39;00m:\n\u001b[1;32m----> <a href='vscode-notebook-cell:/c%3A/Users/User/Desktop/PYTHON_TUTORIAL/LLM/chat_with_pdf.ipynb#X21sZmlsZQ%3D%3D?line=4'>5</a>\u001b[0m     faiss_db \u001b[39m=\u001b[39m FAISS\u001b[39m.\u001b[39;49mfrom_documents(doc_list, \n\u001b[0;32m      <a href='vscode-notebook-cell:/c%3A/Users/User/Desktop/PYTHON_TUTORIAL/LLM/chat_with_pdf.ipynb#X21sZmlsZQ%3D%3D?line=5'>6</a>\u001b[0m                             embed_fn)  \n\u001b[0;32m      <a href='vscode-notebook-cell:/c%3A/Users/User/Desktop/PYTHON_TUTORIAL/LLM/chat_with_pdf.ipynb#X21sZmlsZQ%3D%3D?line=6'>7</a>\u001b[0m \u001b[39mexcept\u001b[39;00m \u001b[39mException\u001b[39;00m \u001b[39mas\u001b[39;00m e:\n",
      "File \u001b[1;32mc:\\Users\\User\\anaconda3\\lib\\site-packages\\langchain\\vectorstores\\base.py:336\u001b[0m, in \u001b[0;36mVectorStore.from_documents\u001b[1;34m(cls, documents, embedding, **kwargs)\u001b[0m\n\u001b[0;32m    335\u001b[0m metadatas \u001b[39m=\u001b[39m [d\u001b[39m.\u001b[39mmetadata \u001b[39mfor\u001b[39;00m d \u001b[39min\u001b[39;00m documents]\n\u001b[1;32m--> 336\u001b[0m \u001b[39mreturn\u001b[39;00m \u001b[39mcls\u001b[39m\u001b[39m.\u001b[39mfrom_texts(texts, embedding, metadatas\u001b[39m=\u001b[39mmetadatas, \u001b[39m*\u001b[39m\u001b[39m*\u001b[39mkwargs)\n",
      "File \u001b[1;32mc:\\Users\\User\\anaconda3\\lib\\site-packages\\langchain\\vectorstores\\faiss.py:549\u001b[0m, in \u001b[0;36mFAISS.from_texts\u001b[1;34m(cls, texts, embedding, metadatas, ids, **kwargs)\u001b[0m\n\u001b[0;32m    532\u001b[0m \u001b[39m\u001b[39m\u001b[39m\"\"\"Construct FAISS wrapper from raw documents.\u001b[39;00m\n\u001b[0;32m    533\u001b[0m \n\u001b[0;32m    534\u001b[0m \u001b[39mThis is a user friendly interface that:\u001b[39;00m\n\u001b[1;32m   (...)\u001b[0m\n\u001b[0;32m    547\u001b[0m \u001b[39m        faiss = FAISS.from_texts(texts, embeddings)\u001b[39;00m\n\u001b[0;32m    548\u001b[0m \u001b[39m\"\"\"\u001b[39;00m\n\u001b[1;32m--> 549\u001b[0m embeddings \u001b[39m=\u001b[39m embedding\u001b[39m.\u001b[39;49membed_documents(texts)\n\u001b[0;32m    550\u001b[0m \u001b[39mreturn\u001b[39;00m \u001b[39mcls\u001b[39m\u001b[39m.\u001b[39m__from(\n\u001b[0;32m    551\u001b[0m     texts,\n\u001b[0;32m    552\u001b[0m     embeddings,\n\u001b[1;32m   (...)\u001b[0m\n\u001b[0;32m    556\u001b[0m     \u001b[39m*\u001b[39m\u001b[39m*\u001b[39mkwargs,\n\u001b[0;32m    557\u001b[0m )\n",
      "File \u001b[1;32mc:\\Users\\User\\anaconda3\\lib\\site-packages\\torch\\nn\\modules\\module.py:1614\u001b[0m, in \u001b[0;36mModule.__getattr__\u001b[1;34m(self, name)\u001b[0m\n\u001b[0;32m   1613\u001b[0m         \u001b[39mreturn\u001b[39;00m modules[name]\n\u001b[1;32m-> 1614\u001b[0m \u001b[39mraise\u001b[39;00m \u001b[39mAttributeError\u001b[39;00m(\u001b[39m\"\u001b[39m\u001b[39m'\u001b[39m\u001b[39m{}\u001b[39;00m\u001b[39m'\u001b[39m\u001b[39m object has no attribute \u001b[39m\u001b[39m'\u001b[39m\u001b[39m{}\u001b[39;00m\u001b[39m'\u001b[39m\u001b[39m\"\u001b[39m\u001b[39m.\u001b[39mformat(\n\u001b[0;32m   1615\u001b[0m     \u001b[39mtype\u001b[39m(\u001b[39mself\u001b[39m)\u001b[39m.\u001b[39m\u001b[39m__name__\u001b[39m, name))\n",
      "\u001b[1;31mAttributeError\u001b[0m: 'SentenceTransformer' object has no attribute 'embed_documents'",
      "\nDuring handling of the above exception, another exception occurred:\n",
      "\u001b[1;31mAttributeError\u001b[0m                            Traceback (most recent call last)",
      "\u001b[1;32mc:\\Users\\User\\Desktop\\PYTHON_TUTORIAL\\LLM\\chat_with_pdf.ipynb Cell 16\u001b[0m line \u001b[0;36m8\n\u001b[0;32m      <a href='vscode-notebook-cell:/c%3A/Users/User/Desktop/PYTHON_TUTORIAL/LLM/chat_with_pdf.ipynb#X21sZmlsZQ%3D%3D?line=4'>5</a>\u001b[0m     faiss_db \u001b[39m=\u001b[39m FAISS\u001b[39m.\u001b[39mfrom_documents(doc_list, \n\u001b[0;32m      <a href='vscode-notebook-cell:/c%3A/Users/User/Desktop/PYTHON_TUTORIAL/LLM/chat_with_pdf.ipynb#X21sZmlsZQ%3D%3D?line=5'>6</a>\u001b[0m                             embed_fn)  \n\u001b[0;32m      <a href='vscode-notebook-cell:/c%3A/Users/User/Desktop/PYTHON_TUTORIAL/LLM/chat_with_pdf.ipynb#X21sZmlsZQ%3D%3D?line=6'>7</a>\u001b[0m \u001b[39mexcept\u001b[39;00m \u001b[39mException\u001b[39;00m \u001b[39mas\u001b[39;00m e:\n\u001b[1;32m----> <a href='vscode-notebook-cell:/c%3A/Users/User/Desktop/PYTHON_TUTORIAL/LLM/chat_with_pdf.ipynb#X21sZmlsZQ%3D%3D?line=7'>8</a>\u001b[0m     faiss_db \u001b[39m=\u001b[39m FAISS\u001b[39m.\u001b[39;49mfrom_texts(doc_list, \n\u001b[0;32m      <a href='vscode-notebook-cell:/c%3A/Users/User/Desktop/PYTHON_TUTORIAL/LLM/chat_with_pdf.ipynb#X21sZmlsZQ%3D%3D?line=8'>9</a>\u001b[0m                             embed_fn)\n\u001b[0;32m     <a href='vscode-notebook-cell:/c%3A/Users/User/Desktop/PYTHON_TUTORIAL/LLM/chat_with_pdf.ipynb#X21sZmlsZQ%3D%3D?line=10'>11</a>\u001b[0m \u001b[39mif\u001b[39;00m os\u001b[39m.\u001b[39mpath\u001b[39m.\u001b[39mexists(index_store):\n\u001b[0;32m     <a href='vscode-notebook-cell:/c%3A/Users/User/Desktop/PYTHON_TUTORIAL/LLM/chat_with_pdf.ipynb#X21sZmlsZQ%3D%3D?line=11'>12</a>\u001b[0m     local_db \u001b[39m=\u001b[39m FAISS\u001b[39m.\u001b[39mload_local(index_store,embed_fn)\n",
      "File \u001b[1;32mc:\\Users\\User\\anaconda3\\lib\\site-packages\\langchain\\vectorstores\\faiss.py:549\u001b[0m, in \u001b[0;36mFAISS.from_texts\u001b[1;34m(cls, texts, embedding, metadatas, ids, **kwargs)\u001b[0m\n\u001b[0;32m    523\u001b[0m \u001b[39m@classmethod\u001b[39m\n\u001b[0;32m    524\u001b[0m \u001b[39mdef\u001b[39;00m \u001b[39mfrom_texts\u001b[39m(\n\u001b[0;32m    525\u001b[0m     \u001b[39mcls\u001b[39m,\n\u001b[1;32m   (...)\u001b[0m\n\u001b[0;32m    530\u001b[0m     \u001b[39m*\u001b[39m\u001b[39m*\u001b[39mkwargs: Any,\n\u001b[0;32m    531\u001b[0m ) \u001b[39m-\u001b[39m\u001b[39m>\u001b[39m FAISS:\n\u001b[0;32m    532\u001b[0m \u001b[39m    \u001b[39m\u001b[39m\"\"\"Construct FAISS wrapper from raw documents.\u001b[39;00m\n\u001b[0;32m    533\u001b[0m \n\u001b[0;32m    534\u001b[0m \u001b[39m    This is a user friendly interface that:\u001b[39;00m\n\u001b[1;32m   (...)\u001b[0m\n\u001b[0;32m    547\u001b[0m \u001b[39m            faiss = FAISS.from_texts(texts, embeddings)\u001b[39;00m\n\u001b[0;32m    548\u001b[0m \u001b[39m    \"\"\"\u001b[39;00m\n\u001b[1;32m--> 549\u001b[0m     embeddings \u001b[39m=\u001b[39m embedding\u001b[39m.\u001b[39;49membed_documents(texts)\n\u001b[0;32m    550\u001b[0m     \u001b[39mreturn\u001b[39;00m \u001b[39mcls\u001b[39m\u001b[39m.\u001b[39m__from(\n\u001b[0;32m    551\u001b[0m         texts,\n\u001b[0;32m    552\u001b[0m         embeddings,\n\u001b[1;32m   (...)\u001b[0m\n\u001b[0;32m    556\u001b[0m         \u001b[39m*\u001b[39m\u001b[39m*\u001b[39mkwargs,\n\u001b[0;32m    557\u001b[0m     )\n",
      "File \u001b[1;32mc:\\Users\\User\\anaconda3\\lib\\site-packages\\torch\\nn\\modules\\module.py:1614\u001b[0m, in \u001b[0;36mModule.__getattr__\u001b[1;34m(self, name)\u001b[0m\n\u001b[0;32m   1612\u001b[0m     \u001b[39mif\u001b[39;00m name \u001b[39min\u001b[39;00m modules:\n\u001b[0;32m   1613\u001b[0m         \u001b[39mreturn\u001b[39;00m modules[name]\n\u001b[1;32m-> 1614\u001b[0m \u001b[39mraise\u001b[39;00m \u001b[39mAttributeError\u001b[39;00m(\u001b[39m\"\u001b[39m\u001b[39m'\u001b[39m\u001b[39m{}\u001b[39;00m\u001b[39m'\u001b[39m\u001b[39m object has no attribute \u001b[39m\u001b[39m'\u001b[39m\u001b[39m{}\u001b[39;00m\u001b[39m'\u001b[39m\u001b[39m\"\u001b[39m\u001b[39m.\u001b[39mformat(\n\u001b[0;32m   1615\u001b[0m     \u001b[39mtype\u001b[39m(\u001b[39mself\u001b[39m)\u001b[39m.\u001b[39m\u001b[39m__name__\u001b[39m, name))\n",
      "\u001b[1;31mAttributeError\u001b[0m: 'SentenceTransformer' object has no attribute 'embed_documents'"
     ]
    }
   ],
   "source": [
    "doc_list= texts\n",
    "embed_fn = embeddings\n",
    "index_store=\"db\"\n",
    "try:\n",
    "    faiss_db = FAISS.from_documents(doc_list, \n",
    "                            embed_fn)  \n",
    "except Exception as e:\n",
    "    faiss_db = FAISS.from_texts(doc_list, \n",
    "                            embed_fn)\n",
    "\n",
    "if os.path.exists(index_store):\n",
    "    local_db = FAISS.load_local(index_store,embed_fn)\n",
    "\n",
    "    #merging the new embedding with the existing index store\n",
    "    local_db.merge_from(faiss_db)\n",
    "    print(\"Merge completed\")\n",
    "    local_db.save_local(index_store)\n",
    "    print(\"Updated index saved\")\n",
    "else:\n",
    "    faiss_db.save_local(folder_path=index_store)\n",
    "    print(\"New store created...\")"
   ]
  },
  {
   "cell_type": "code",
   "execution_count": null,
   "metadata": {},
   "outputs": [],
   "source": [
    "print(vectordb._collection.count())"
   ]
  },
  {
   "cell_type": "code",
   "execution_count": 32,
   "metadata": {},
   "outputs": [
    {
     "name": "stdout",
     "output_type": "stream",
     "text": [
      "^C\n"
     ]
    }
   ],
   "source": [
    "!conda install -c pytorch faiss-cpu"
   ]
  },
  {
   "cell_type": "code",
   "execution_count": 33,
   "metadata": {},
   "outputs": [
    {
     "name": "stdout",
     "output_type": "stream",
     "text": [
      "Collecting faiss-cpu\n",
      "  Downloading faiss_cpu-1.7.4-cp310-cp310-win_amd64.whl (10.8 MB)\n",
      "     ---------------------------------------- 10.8/10.8 MB 2.8 MB/s eta 0:00:00\n",
      "Installing collected packages: faiss-cpu\n",
      "Successfully installed faiss-cpu-1.7.4\n"
     ]
    }
   ],
   "source": [
    "!pip install faiss-cpu"
   ]
  },
  {
   "cell_type": "code",
   "execution_count": 35,
   "metadata": {},
   "outputs": [
    {
     "name": "stderr",
     "output_type": "stream",
     "text": [
      "fatal: repository 'code_script_notebooks/projects/LLM_practical_appln/multiFileEmbedFaiss.ipynb' does not exist\n"
     ]
    }
   ],
   "source": [
    "!git clone code_script_notebooks/projects/LLM_practical_appln/multiFileEmbedFaiss.ipynb"
   ]
  },
  {
   "cell_type": "code",
   "execution_count": null,
   "metadata": {},
   "outputs": [],
   "source": [
    "code_script_notebooks/projects/LLM_practical_appln/multiFileEmbedFaiss.ipynb"
   ]
  }
 ],
 "metadata": {
  "kernelspec": {
   "display_name": "base",
   "language": "python",
   "name": "python3"
  },
  "language_info": {
   "codemirror_mode": {
    "name": "ipython",
    "version": 3
   },
   "file_extension": ".py",
   "mimetype": "text/x-python",
   "name": "python",
   "nbconvert_exporter": "python",
   "pygments_lexer": "ipython3",
   "version": "3.10.9"
  },
  "orig_nbformat": 4
 },
 "nbformat": 4,
 "nbformat_minor": 2
}
